{
  "nbformat": 4,
  "nbformat_minor": 0,
  "metadata": {
    "colab": {
      "provenance": []
    },
    "kernelspec": {
      "name": "python3",
      "display_name": "Python 3"
    },
    "language_info": {
      "name": "python"
    }
  },
  "cells": [
    {
      "cell_type": "code",
      "execution_count": null,
      "metadata": {
        "id": "fMiuyhT4AQHJ"
      },
      "outputs": [],
      "source": [
        "'''\n",
        "В данном решении используется модель логистической регрессии для решения задачи классификации текстовых данных по их настроению (sentiment). Логистическая регрессия является линейным методом классификации, который основан на логистической функции, также известной как сигмоид.\n",
        "\n",
        "Принцип работы модели:\n",
        "\n",
        "Векторизация текста: Сначала текстовые данные преобразуются в числовые признаки с помощью метода TF-IDF векторизации. TF-IDF (Term Frequency-Inverse Document Frequency) - это метод, который вычисляет важность слова в документе с учетом его частоты в документе и обратной частоты его встречаемости в корпусе документов.\n",
        "\n",
        "Обучение модели: Затем обучается модель логистической регрессии на TF-IDF векторах обучающего набора данных. В процессе обучения модель настраивает веса для каждого признака с помощью оптимизации функции потерь.\n",
        "\n",
        "Предсказание классов: После обучения модели она используется для предсказания меток классов (положительное, нейтральное или отрицательное настроение) для новых текстовых данных из тестового набора.\n",
        "\n",
        "Оценка производительности: Наконец, производится оценка производительности модели с использованием F1-метрики, которая является средним гармоническим между точностью и полнотой.\n",
        "\n",
        "Сохранение результатов: Предсказанные метки классов сохраняются в файл для дальнейшего анализа или использования.\n",
        "\n",
        "Модель логистической регрессии в этом случае выбрана из-за своей простоты, эффективности и хорошей работы с текстовыми данными. Кроме того, она обладает свойством интерпретируемости, что позволяет понять, какие слова или признаки вносят наибольший вклад в прогнозирование настроения текста.\n",
        "'''\n",
        "\n",
        "import pandas as pd\n",
        "from sklearn.feature_extraction.text import TfidfVectorizer\n",
        "from sklearn.model_selection import train_test_split\n",
        "from sklearn.metrics import f1_score\n",
        "from sklearn.linear_model import LogisticRegression\n",
        "\n",
        "# Загрузка обучающего набора данных из CSV файла\n",
        "df = pd.read_csv(\"drive/MyDrive/train.csv\")\n",
        "\n",
        "# Извлечение текстовых данных (признаков) и меток классов из DataFrame\n",
        "x = df['text'].values\n",
        "y = df['sentiment'].values\n",
        "\n",
        "# Разделение данных на обучающий и тестовый наборы\n",
        "x_train, x_test, y_train, y_test = train_test_split(x, y, test_size=0.2, random_state=0)\n",
        "\n",
        "# Создание и обучение векторизатора TF-IDF на обучающих данных\n",
        "tfidf_vectorizer = TfidfVectorizer()\n",
        "tfidf_train_vectors = tfidf_vectorizer.fit_transform(x_train)\n",
        "tfidf_test_vectors = tfidf_vectorizer.transform(x_test)\n",
        "\n",
        "# Инициализация и обучение модели логистической регрессии\n",
        "clf_logreg = LogisticRegression(C=1, solver=\"sag\", dual=False, tol=0, max_iter=10000)\n",
        "clf_logreg.fit(tfidf_train_vectors, y_train)\n",
        "y_logreg_pred = clf_logreg.predict(tfidf_test_vectors)\n",
        "\n",
        "# Предсказание меток классов для тестового набора данных\n",
        "print(f1_score(y_test, y_logreg_pred, average='weighted'))\n",
        "\n",
        "# Загрузка тестового набора данных из CSV файла\n",
        "test_df = pd.read_csv(\"drive/MyDrive/test.csv\")\n",
        "\n",
        "# Предсказание меток классов для тестового набора данных с использованием обученной модели логистической регрессии\n",
        "test_x = test_df['text'].values\n",
        "tfidf_test_vectors = tfidf_vectorizer.transform(test_x)\n",
        "test_predictions = clf_logreg.predict(tfidf_test_vectors)\n",
        "\n",
        "# Создание DataFrame с предсказанными метками классов для тестового набора данных\n",
        "results_df = pd.DataFrame({\n",
        "    'ID': test_df['ID'],\n",
        "    'sentiment': test_predictions\n",
        "})\n",
        "\n",
        "# Сохранение результатов предсказаний в CSV файл\n",
        "results_df.to_csv(\"drive/MyDrive/results.csv\", index=False)\n",
        "print(results_df)"
      ]
    }
  ]
}